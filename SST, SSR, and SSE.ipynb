{
 "cells": [
  {
   "cell_type": "code",
   "execution_count": 1,
   "metadata": {},
   "outputs": [
    {
     "name": "stderr",
     "output_type": "stream",
     "text": [
      "/usr/local/lib/python3.10/dist-packages/pandas/core/arrays/masked.py:62: UserWarning: Pandas requires version '1.3.4' or newer of 'bottleneck' (version '1.3.2' currently installed).\n",
      "  from pandas.core import (\n"
     ]
    },
    {
     "name": "stdout",
     "output_type": "stream",
     "text": [
      "SSR: 1584.90, SSE: 86.12, SST: 1671.02\n"
     ]
    }
   ],
   "source": [
    "import numpy as np\n",
    "import statsmodels.api as sm\n",
    "\n",
    "# Generate some sample data\n",
    "np.random.seed(1)\n",
    "x = np.random.randn(100)\n",
    "X = np.c_[x, x**2]\n",
    "\n",
    "# Add constant \n",
    "X = sm.add_constant(X)\n",
    "\n",
    "# Generate y\n",
    "y = 2*x + 3*x**2 + np.random.randn(100)\n",
    "\n",
    "# Fit model\n",
    "model = sm.OLS(y, X).fit()\n",
    "\n",
    "# Rest of your code\n",
    "y_predicted = model.predict(X)\n",
    "\n",
    "ssr = np.sum((y_predicted - np.mean(y))**2)\n",
    "sse = np.sum((y - y_predicted)**2)  \n",
    "sst = ssr + sse\n",
    "\n",
    "print(f'SSR: {ssr:.2f}, SSE: {sse:.2f}, SST: {sst:.2f}')\n",
    "sst = ssr + sse"
   ]
  },
  {
   "cell_type": "code",
   "execution_count": 2,
   "metadata": {},
   "outputs": [
    {
     "name": "stdout",
     "output_type": "stream",
     "text": [
      "SSR: 1584.90, SSE: 86.12, SST: 1671.02\n"
     ]
    }
   ],
   "source": [
    "import numpy as np\n",
    "import statsmodels.api as sm\n",
    "\n",
    "np.random.seed(1)\n",
    "x = np.random.randn(100)\n",
    "X = np.column_stack([x, x**2])\n",
    "\n",
    "X = sm.add_constant(X)\n",
    "\n",
    "y = 2*x + 3*x**2 + np.random.randn(100)\n",
    "\n",
    "model = sm.OLS(y, X).fit()\n",
    "\n",
    "y_predicted = model.predict(X)\n",
    "\n",
    "ssr = np.sum((y_predicted - y.mean())**2)\n",
    "sse = np.sum((y - y_predicted)**2)\n",
    "sst = ssr + sse\n",
    "\n",
    "print(f'SSR: {ssr:.2f}, SSE: {sse:.2f}, SST: {sst:.2f}')"
   ]
  }
 ],
 "metadata": {
  "kernelspec": {
   "display_name": "Python 3",
   "language": "python",
   "name": "python3"
  },
  "language_info": {
   "codemirror_mode": {
    "name": "ipython",
    "version": 3
   },
   "file_extension": ".py",
   "mimetype": "text/x-python",
   "name": "python",
   "nbconvert_exporter": "python",
   "pygments_lexer": "ipython3",
   "version": "3.10.12"
  }
 },
 "nbformat": 4,
 "nbformat_minor": 2
}
